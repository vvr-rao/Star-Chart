{
 "cells": [
  {
   "cell_type": "code",
   "execution_count": null,
   "id": "6377661f",
   "metadata": {},
   "outputs": [],
   "source": [
    "import sys\n",
    "from datetime import datetime\n",
    "import math\n",
    "\n",
    "from pyspark.sql import SparkSession\n",
    "from pyspark.sql.functions import *\n",
    "\n",
    "from pyspark.sql.types import *\n"
   ]
  },
  {
   "cell_type": "code",
   "execution_count": null,
   "id": "a6952c45",
   "metadata": {},
   "outputs": [],
   "source": [
    "spark = SparkSession\\\n",
    "    .builder\\\n",
    "    .appName(\"SparkETL\")\\\n",
    "    .getOrCreate()"
   ]
  },
  {
   "cell_type": "code",
   "execution_count": null,
   "id": "40845b2e",
   "metadata": {},
   "outputs": [],
   "source": [
    "df = spark.read.csv(\"s3://BUCKET/FOLDER/pairsv2-last.csv\", header=True, inferSchema=True)"
   ]
  },
  {
   "cell_type": "code",
   "execution_count": null,
   "id": "9c2372d3",
   "metadata": {},
   "outputs": [],
   "source": [
    "df.printSchema()"
   ]
  },
  {
   "cell_type": "code",
   "execution_count": null,
   "id": "48201481",
   "metadata": {},
   "outputs": [],
   "source": [
    "def getAngDist1(x):\n",
    "    ra1 = x.SourceRA\n",
    "    ra2 = x.DestRA\n",
    "    dec1 = x.SourceDec\n",
    "    dec2 = x.DestDec\n",
    "    sin_dec1 = math.sin(math.radians(dec1))\n",
    "    sin_dec2 = math.sin(math.radians(dec2))\n",
    "    cos_dec1 = math.cos(math.radians(dec1))\n",
    "    cos_dec2 = math.cos(math.radians(dec2))\n",
    "    raDiff = math.radians((ra1 - ra2)*15)\n",
    "    cos_ra = math.cos(raDiff)\n",
    "    cosAng = sin_dec1*sin_dec2 + cos_dec1*cos_dec2*cos_ra\n",
    "    #Note: divide by 0.01745329252 below to convert radians to degrees\n",
    "    # Note2: for some reason, math.acos(0) gives a math domain error.\n",
    "    # In pyspark this causes the job to crash with a confusing \"unable to overwrite file\" error\n",
    "    if ((ra1 == ra2) & (dec1 == dec2)):\n",
    "        AngDist = 0\n",
    "    else:\n",
    "        AngDist = math.acos(cosAng)/0.01745329252\n",
    "    return(x.Source, x.Destination, AngDist, ra1, dec1, ra2, dec2)"
   ]
  },
  {
   "cell_type": "code",
   "execution_count": null,
   "id": "035d8bb3",
   "metadata": {},
   "outputs": [],
   "source": [
    "rdd2 = df.rdd.map(lambda x: getAngDist1(x))"
   ]
  },
  {
   "cell_type": "code",
   "execution_count": null,
   "id": "d31090f4",
   "metadata": {},
   "outputs": [],
   "source": [
    "rdd2.collect()"
   ]
  },
  {
   "cell_type": "code",
   "execution_count": null,
   "id": "a0ad27f6",
   "metadata": {},
   "outputs": [],
   "source": [
    "def toCSVLine(data):\n",
    "  return ','.join(str(d) for d in data)\n",
    "\n",
    "lines = rdd2.map(toCSVLine)\n",
    "lines.saveAsTextFile(\"s3://BUCKET/FOLDER/dist-last.csv\")"
   ]
  },
  {
   "cell_type": "code",
   "execution_count": null,
   "id": "aaece154",
   "metadata": {},
   "outputs": [],
   "source": []
  }
 ],
 "metadata": {
  "kernelspec": {
   "display_name": "PySpark",
   "language": "",
   "name": "pysparkkernel"
  },
  "language_info": {
   "codemirror_mode": {
    "name": "python",
    "version": 3
   },
   "mimetype": "text/x-python",
   "name": "pyspark",
   "pygments_lexer": "python3"
  }
 },
 "nbformat": 4,
 "nbformat_minor": 5
}
