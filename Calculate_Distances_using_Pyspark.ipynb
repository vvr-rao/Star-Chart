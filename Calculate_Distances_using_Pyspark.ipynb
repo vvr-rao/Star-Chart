{
 "cells": [
  {
   "cell_type": "code",
   "execution_count": null,
   "id": "afa4e84b",
   "metadata": {},
   "outputs": [],
   "source": [
    "import sys\n",
    "from datetime import datetime\n",
    "import math\n",
    "\n",
    "from pyspark.sql import SparkSession\n",
    "from pyspark.sql.functions import *\n",
    "\n",
    "from pyspark.sql.types import *"
   ]
  },
  {
   "cell_type": "code",
   "execution_count": null,
   "id": "e7d3c426",
   "metadata": {},
   "outputs": [],
   "source": [
    "spark = SparkSession\\\n",
    "    .builder\\\n",
    "    .appName(\"SparkETL\")\\\n",
    "    .getOrCreate()"
   ]
  },
  {
   "cell_type": "code",
   "execution_count": null,
   "id": "357b03f8",
   "metadata": {},
   "outputs": [],
   "source": [
    "def getAngDist1(x):\n",
    "    ra1 = x.SourceRA\n",
    "    ra2 = x.DestRA\n",
    "    dec1 = x.SourceDec\n",
    "    dec2 = x.DestDec\n",
    "    sin_dec1 = math.sin(math.radians(dec1))\n",
    "    sin_dec2 = math.sin(math.radians(dec2))\n",
    "    cos_dec1 = math.cos(math.radians(dec1))\n",
    "    cos_dec2 = math.cos(math.radians(dec2))\n",
    "    raDiff = math.radians((ra1 - ra2)*15)\n",
    "    cos_ra = math.cos(raDiff)\n",
    "    cosAng = sin_dec1*sin_dec2 + cos_dec1*cos_dec2*cos_ra\n",
    "    #Note: divide by 0.01745329252 below to convert radians to degrees\n",
    "    # Note2: for some reason, math.acos(0) gives a math domain error.\n",
    "    # In pyspark this causes the job to crash with a confusing \"unable to overwrite file\" error\n",
    "    if ((ra1 == ra2) & (dec1 == dec2)):\n",
    "        AngDist = 0\n",
    "    else:\n",
    "        AngDist = math.acos(cosAng)/0.01745329252\n",
    "    return(x.Source, x.Destination, AngDist, ra1, dec1, ra2, dec2)"
   ]
  },
  {
   "cell_type": "code",
   "execution_count": null,
   "id": "0dcc52f5",
   "metadata": {},
   "outputs": [],
   "source": [
    "def toCSVLine(data):\n",
    "  return ','.join(str(d) for d in data)"
   ]
  },
  {
   "cell_type": "code",
   "execution_count": null,
   "id": "7d92dff2",
   "metadata": {},
   "outputs": [],
   "source": [
    "#df = spark.read.csv(\"s3://emr-astronomy-petproj/pairsv3/pairsv2-last.csv\", header=True, inferSchema=True)\n",
    "df = spark.read.csv(\"s3://BUCKET/FOLDER/*.csv\", header=True, inferSchema=True)"
   ]
  },
  {
   "cell_type": "code",
   "execution_count": null,
   "id": "a5c88478",
   "metadata": {},
   "outputs": [],
   "source": [
    "# just for debugging - comment in final\n",
    "df.count()"
   ]
  },
  {
   "cell_type": "code",
   "execution_count": null,
   "id": "6419bd1d",
   "metadata": {},
   "outputs": [],
   "source": [
    "# just for debugging - comment in final\n",
    "#df.rdd.countApprox(timeout = 1000, confidence = 0.95)"
   ]
  },
  {
   "cell_type": "code",
   "execution_count": null,
   "id": "c6732bc9",
   "metadata": {},
   "outputs": [],
   "source": [
    "df.printSchema()"
   ]
  },
  {
   "cell_type": "code",
   "execution_count": null,
   "id": "3d67b17b",
   "metadata": {},
   "outputs": [],
   "source": [
    "rdd2 = df.rdd.map(lambda x: getAngDist1(x))"
   ]
  },
  {
   "cell_type": "code",
   "execution_count": null,
   "id": "05fcd76e",
   "metadata": {},
   "outputs": [],
   "source": [
    "#Note: this will result in an out of memory error for large datasets. Hence, looping through files\n",
    "#rdd2.collect()"
   ]
  },
  {
   "cell_type": "code",
   "execution_count": null,
   "id": "d01cd15e",
   "metadata": {},
   "outputs": [],
   "source": [
    "#I am doing it this way since I need to get an output in a .csv readable by Athena\n",
    "\n",
    "lines = rdd2.map(toCSVLine)\n",
    "lines.saveAsTextFile(\"s3://BUCKET/FOLDER/OUT.csv\")"
   ]
  },
  {
   "cell_type": "code",
   "execution_count": null,
   "id": "c9cf4f23",
   "metadata": {},
   "outputs": [],
   "source": []
  }
 ],
 "metadata": {
  "kernelspec": {
   "display_name": "PySpark",
   "language": "",
   "name": "pysparkkernel"
  },
  "language_info": {
   "codemirror_mode": {
    "name": "python",
    "version": 3
   },
   "mimetype": "text/x-python",
   "name": "pyspark",
   "pygments_lexer": "python3"
  }
 },
 "nbformat": 4,
 "nbformat_minor": 5
}
