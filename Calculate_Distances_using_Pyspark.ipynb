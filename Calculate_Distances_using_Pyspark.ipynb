{
 "cells": [
  {
   "cell_type": "code",
   "execution_count": null,
   "id": "f64371b0",
   "metadata": {},
   "outputs": [],
   "source": [
    "import sys\n",
    "from datetime import datetime\n",
    "import math\n",
    "\n",
    "from pyspark.sql import SparkSession\n",
    "from pyspark.sql.functions import *\n",
    "\n",
    "from pyspark.sql.types import *"
   ]
  },
  {
   "cell_type": "code",
   "execution_count": null,
   "id": "ba4b0bc4",
   "metadata": {},
   "outputs": [],
   "source": [
    "spark = SparkSession\\\n",
    "    .builder\\\n",
    "    .appName(\"SparkETL\")\\\n",
    "    .getOrCreate()"
   ]
  },
  {
   "cell_type": "code",
   "execution_count": null,
   "id": "5a127a3c",
   "metadata": {},
   "outputs": [],
   "source": [
    "df = spark.read.csv(\"s3://BUCKET/FOLDER/out2.csv\", header=True, inferSchema=True)"
   ]
  },
  {
   "cell_type": "code",
   "execution_count": null,
   "id": "47f02ae9",
   "metadata": {},
   "outputs": [],
   "source": [
    "df.printSchema()"
   ]
  },
  {
   "cell_type": "code",
   "execution_count": null,
   "id": "1524e5cd",
   "metadata": {},
   "outputs": [],
   "source": [
    "def getAngDist1(x):\n",
    "    ra1 = x.SourceRA\n",
    "    ra2 = x.DestRA\n",
    "    dec1 = x.SourceDec\n",
    "    dec2 = x.DestDec\n",
    "    sin_dec1 = math.sin(math.radians(dec1))\n",
    "    sin_dec2 = math.sin(math.radians(dec2))\n",
    "    cos_dec1 = math.cos(math.radians(dec1))\n",
    "    cos_dec2 = math.cos(math.radians(dec2))\n",
    "    raDiff = math.radians((ra1 - ra2)*15)\n",
    "    cos_ra = math.cos(raDiff)\n",
    "    cosAng = sin_dec1*sin_dec2 + cos_dec1*cos_dec2*cos_ra\n",
    "    #Note: divide by 0.01745329252 below to convert radians to degrees\n",
    "    AngDist = math.acos(cosAng)/0.01745329252\n",
    "    return(x.Source, x.Destination, AngDist, x.AngularDist)"
   ]
  },
  {
   "cell_type": "code",
   "execution_count": null,
   "id": "54e5a792",
   "metadata": {},
   "outputs": [],
   "source": [
    "rdd2 = df.rdd.map(lambda x: getAngDist1(x))"
   ]
  },
  {
   "cell_type": "code",
   "execution_count": null,
   "id": "870de31f",
   "metadata": {},
   "outputs": [],
   "source": [
    "rdd2.collect()"
   ]
  },
  {
   "cell_type": "code",
   "execution_count": null,
   "id": "c37dacd1",
   "metadata": {},
   "outputs": [],
   "source": [
    "schema = StructType([\n",
    "    StructField('Source',StringType(), True),\n",
    "    StructField('Destination',StringType(), True),\n",
    "    StructField('AngDistNew',FloatType(), True),\n",
    "    StructField('AngDistOld',FloatType(), True)\n",
    "])"
   ]
  },
  {
   "cell_type": "code",
   "execution_count": null,
   "id": "ba1d0c53",
   "metadata": {},
   "outputs": [],
   "source": [
    "dfFromRDD = rdd2.toDF(schema)"
   ]
  },
  {
   "cell_type": "code",
   "execution_count": null,
   "id": "f3649cc8",
   "metadata": {},
   "outputs": [],
   "source": [
    "dfFromRDD.printSchema()"
   ]
  },
  {
   "cell_type": "code",
   "execution_count": null,
   "id": "2bfebd06",
   "metadata": {},
   "outputs": [],
   "source": [
    "print(dfFromRDD.head())"
   ]
  },
  {
   "cell_type": "code",
   "execution_count": null,
   "id": "33f27f01",
   "metadata": {},
   "outputs": [],
   "source": [
    "dfFromRDD.coalesce(1).write.option(\"header\", \"true\").csv(\"s3://BUCKET/FOLDER/rdd2.csv\")"
   ]
  },
  {
   "cell_type": "code",
   "execution_count": null,
   "id": "c7a758be",
   "metadata": {},
   "outputs": [],
   "source": []
  }
 ],
 "metadata": {
  "kernelspec": {
   "display_name": "PySpark",
   "language": "",
   "name": "pysparkkernel"
  },
  "language_info": {
   "codemirror_mode": {
    "name": "python",
    "version": 3
   },
   "mimetype": "text/x-python",
   "name": "pyspark",
   "pygments_lexer": "python3"
  }
 },
 "nbformat": 4,
 "nbformat_minor": 5
}
